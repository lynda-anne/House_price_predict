{
 "cells": [
  {
   "cell_type": "markdown",
   "metadata": {},
   "source": [
    "## Using data provided create a model to predict house sales price"
   ]
  },
  {
   "cell_type": "code",
   "execution_count": 1,
   "metadata": {},
   "outputs": [],
   "source": [
    "import pandas as pd\n",
    "import numpy as np\n",
    "from math import sqrt\n",
    "import matplotlib.pyplot as plt\n",
    "import seaborn as sns; sns.set()\n",
    "from sklearn.model_selection import train_test_split, cross_val_score, KFold\n",
    "from sklearn.svm import SVC\n",
    "from sklearn.linear_model import LogisticRegression, Ridge, Lasso\n",
    "from sklearn.preprocessing import scale\n",
    "from sklearn.multiclass import OneVsRestClassifier\n",
    "from sklearn.metrics import roc_auc_score, mean_squared_error\n",
    "from sklearn.preprocessing import Imputer, StandardScaler\n",
    "from sklearn.pipeline import Pipeline\n",
    "from sklearn.metrics import classification_report, log_loss\n",
    "from sklearn import ensemble\n",
    "from sklearn.ensemble import RandomForestRegressor\n",
    "\n",
    "\n",
    "\n",
    "\n"
   ]
  },
  {
   "cell_type": "markdown",
   "metadata": {},
   "source": [
    "## Read file and inspect data"
   ]
  },
  {
   "cell_type": "code",
   "execution_count": 2,
   "metadata": {},
   "outputs": [
    {
     "name": "stdout",
     "output_type": "stream",
     "text": [
      "['Alley', 'PoolQC', 'Fence', 'MiscFeature']\n",
      "<class 'pandas.core.frame.DataFrame'>\n",
      "RangeIndex: 1460 entries, 0 to 1459\n",
      "Data columns (total 77 columns):\n",
      "Id               1460 non-null int64\n",
      "MSSubClass       1460 non-null int64\n",
      "MSZoning         1460 non-null object\n",
      "LotFrontage      1201 non-null float64\n",
      "LotArea          1460 non-null int64\n",
      "Street           1460 non-null object\n",
      "LotShape         1460 non-null object\n",
      "LandContour      1460 non-null object\n",
      "Utilities        1460 non-null object\n",
      "LotConfig        1460 non-null object\n",
      "LandSlope        1460 non-null object\n",
      "Neighborhood     1460 non-null object\n",
      "Condition1       1460 non-null object\n",
      "Condition2       1460 non-null object\n",
      "BldgType         1460 non-null object\n",
      "HouseStyle       1460 non-null object\n",
      "OverallQual      1460 non-null int64\n",
      "OverallCond      1460 non-null int64\n",
      "YearBuilt        1460 non-null int64\n",
      "YearRemodAdd     1460 non-null int64\n",
      "RoofStyle        1460 non-null object\n",
      "RoofMatl         1460 non-null object\n",
      "Exterior1st      1460 non-null object\n",
      "Exterior2nd      1460 non-null object\n",
      "MasVnrType       1452 non-null object\n",
      "MasVnrArea       1452 non-null float64\n",
      "ExterQual        1460 non-null object\n",
      "ExterCond        1460 non-null object\n",
      "Foundation       1460 non-null object\n",
      "BsmtQual         1423 non-null object\n",
      "BsmtCond         1423 non-null object\n",
      "BsmtExposure     1422 non-null object\n",
      "BsmtFinType1     1423 non-null object\n",
      "BsmtFinSF1       1460 non-null int64\n",
      "BsmtFinType2     1422 non-null object\n",
      "BsmtFinSF2       1460 non-null int64\n",
      "BsmtUnfSF        1460 non-null int64\n",
      "TotalBsmtSF      1460 non-null int64\n",
      "Heating          1460 non-null object\n",
      "HeatingQC        1460 non-null object\n",
      "CentralAir       1460 non-null object\n",
      "Electrical       1459 non-null object\n",
      "1stFlrSF         1460 non-null int64\n",
      "2ndFlrSF         1460 non-null int64\n",
      "LowQualFinSF     1460 non-null int64\n",
      "GrLivArea        1460 non-null int64\n",
      "BsmtFullBath     1460 non-null int64\n",
      "BsmtHalfBath     1460 non-null int64\n",
      "FullBath         1460 non-null int64\n",
      "HalfBath         1460 non-null int64\n",
      "BedroomAbvGr     1460 non-null int64\n",
      "KitchenAbvGr     1460 non-null int64\n",
      "KitchenQual      1460 non-null object\n",
      "TotRmsAbvGrd     1460 non-null int64\n",
      "Functional       1460 non-null object\n",
      "Fireplaces       1460 non-null int64\n",
      "FireplaceQu      770 non-null object\n",
      "GarageType       1379 non-null object\n",
      "GarageYrBlt      1379 non-null float64\n",
      "GarageFinish     1379 non-null object\n",
      "GarageCars       1460 non-null int64\n",
      "GarageArea       1460 non-null int64\n",
      "GarageQual       1379 non-null object\n",
      "GarageCond       1379 non-null object\n",
      "PavedDrive       1460 non-null object\n",
      "WoodDeckSF       1460 non-null int64\n",
      "OpenPorchSF      1460 non-null int64\n",
      "EnclosedPorch    1460 non-null int64\n",
      "3SsnPorch        1460 non-null int64\n",
      "ScreenPorch      1460 non-null int64\n",
      "PoolArea         1460 non-null int64\n",
      "MiscVal          1460 non-null int64\n",
      "MoSold           1460 non-null int64\n",
      "YrSold           1460 non-null int64\n",
      "SaleType         1460 non-null object\n",
      "SaleCondition    1460 non-null object\n",
      "SalePrice        1460 non-null int64\n",
      "dtypes: float64(3), int64(35), object(39)\n",
      "memory usage: 878.4+ KB\n"
     ]
    },
    {
     "name": "stderr",
     "output_type": "stream",
     "text": [
      "/anaconda3/lib/python3.6/site-packages/ipykernel_launcher.py:7: DeprecationWarning: \n",
      ".ix is deprecated. Please use\n",
      ".loc for label based indexing or\n",
      ".iloc for positional indexing\n",
      "\n",
      "See the documentation here:\n",
      "http://pandas.pydata.org/pandas-docs/stable/indexing.html#ix-indexer-is-deprecated\n",
      "  import sys\n"
     ]
    }
   ],
   "source": [
    "houses = pd.read_csv('train.csv')\n",
    "#print(houses.head())\n",
    "#houses.info()\n",
    "i=0\n",
    "lst= []\n",
    "for col in houses :\n",
    "    if sum(houses.ix[:,i].value_counts()) < 300 :\n",
    "          lst.append(col)\n",
    "    i= i+ 1\n",
    "print(lst)\n",
    "houses= houses.drop(lst, axis=1)\n",
    "houses.info()"
   ]
  },
  {
   "cell_type": "code",
   "execution_count": 3,
   "metadata": {},
   "outputs": [
    {
     "name": "stderr",
     "output_type": "stream",
     "text": [
      "/anaconda3/lib/python3.6/site-packages/ipykernel_launcher.py:7: DeprecationWarning: \n",
      ".ix is deprecated. Please use\n",
      ".loc for label based indexing or\n",
      ".iloc for positional indexing\n",
      "\n",
      "See the documentation here:\n",
      "http://pandas.pydata.org/pandas-docs/stable/indexing.html#ix-indexer-is-deprecated\n",
      "  import sys\n"
     ]
    },
    {
     "name": "stdout",
     "output_type": "stream",
     "text": [
      "['Alley', 'FireplaceQu', 'PoolQC', 'Fence', 'MiscFeature']\n",
      "<class 'pandas.core.frame.DataFrame'>\n",
      "RangeIndex: 1459 entries, 0 to 1458\n",
      "Data columns (total 76 columns):\n",
      "Id               1459 non-null int64\n",
      "MSSubClass       1459 non-null int64\n",
      "MSZoning         1455 non-null object\n",
      "LotFrontage      1232 non-null float64\n",
      "LotArea          1459 non-null int64\n",
      "Street           1459 non-null object\n",
      "LotShape         1459 non-null object\n",
      "LandContour      1459 non-null object\n",
      "Utilities        1457 non-null object\n",
      "LotConfig        1459 non-null object\n",
      "LandSlope        1459 non-null object\n",
      "Neighborhood     1459 non-null object\n",
      "Condition1       1459 non-null object\n",
      "Condition2       1459 non-null object\n",
      "BldgType         1459 non-null object\n",
      "HouseStyle       1459 non-null object\n",
      "OverallQual      1459 non-null int64\n",
      "OverallCond      1459 non-null int64\n",
      "YearBuilt        1459 non-null int64\n",
      "YearRemodAdd     1459 non-null int64\n",
      "RoofStyle        1459 non-null object\n",
      "RoofMatl         1459 non-null object\n",
      "Exterior1st      1458 non-null object\n",
      "Exterior2nd      1458 non-null object\n",
      "MasVnrType       1443 non-null object\n",
      "MasVnrArea       1444 non-null float64\n",
      "ExterQual        1459 non-null object\n",
      "ExterCond        1459 non-null object\n",
      "Foundation       1459 non-null object\n",
      "BsmtQual         1415 non-null object\n",
      "BsmtCond         1414 non-null object\n",
      "BsmtExposure     1415 non-null object\n",
      "BsmtFinType1     1417 non-null object\n",
      "BsmtFinSF1       1458 non-null float64\n",
      "BsmtFinType2     1417 non-null object\n",
      "BsmtFinSF2       1458 non-null float64\n",
      "BsmtUnfSF        1458 non-null float64\n",
      "TotalBsmtSF      1458 non-null float64\n",
      "Heating          1459 non-null object\n",
      "HeatingQC        1459 non-null object\n",
      "CentralAir       1459 non-null object\n",
      "Electrical       1459 non-null object\n",
      "1stFlrSF         1459 non-null int64\n",
      "2ndFlrSF         1459 non-null int64\n",
      "LowQualFinSF     1459 non-null int64\n",
      "GrLivArea        1459 non-null int64\n",
      "BsmtFullBath     1457 non-null float64\n",
      "BsmtHalfBath     1457 non-null float64\n",
      "FullBath         1459 non-null int64\n",
      "HalfBath         1459 non-null int64\n",
      "BedroomAbvGr     1459 non-null int64\n",
      "KitchenAbvGr     1459 non-null int64\n",
      "KitchenQual      1458 non-null object\n",
      "TotRmsAbvGrd     1459 non-null int64\n",
      "Functional       1457 non-null object\n",
      "Fireplaces       1459 non-null int64\n",
      "FireplaceQu      729 non-null object\n",
      "GarageType       1383 non-null object\n",
      "GarageYrBlt      1381 non-null float64\n",
      "GarageFinish     1381 non-null object\n",
      "GarageCars       1458 non-null float64\n",
      "GarageArea       1458 non-null float64\n",
      "GarageQual       1381 non-null object\n",
      "GarageCond       1381 non-null object\n",
      "PavedDrive       1459 non-null object\n",
      "WoodDeckSF       1459 non-null int64\n",
      "OpenPorchSF      1459 non-null int64\n",
      "EnclosedPorch    1459 non-null int64\n",
      "3SsnPorch        1459 non-null int64\n",
      "ScreenPorch      1459 non-null int64\n",
      "PoolArea         1459 non-null int64\n",
      "MiscVal          1459 non-null int64\n",
      "MoSold           1459 non-null int64\n",
      "YrSold           1459 non-null int64\n",
      "SaleType         1458 non-null object\n",
      "SaleCondition    1459 non-null object\n",
      "dtypes: float64(11), int64(26), object(39)\n",
      "memory usage: 866.4+ KB\n"
     ]
    }
   ],
   "source": [
    "test_houses= pd.read_csv('test.csv')\n",
    "#print(test_houses.head())\n",
    "#test_houses.info()\n",
    "i=0\n",
    "test_lst= []\n",
    "for col in test_houses :\n",
    "    if sum(test_houses.ix[:,i].value_counts()) < 1000 :\n",
    "          test_lst.append(col)\n",
    "    i= i+ 1\n",
    "print(test_lst)\n",
    "test_houses= test_houses.drop(lst, axis=1)\n",
    "test_houses.info()"
   ]
  },
  {
   "cell_type": "code",
   "execution_count": 4,
   "metadata": {},
   "outputs": [
    {
     "name": "stderr",
     "output_type": "stream",
     "text": [
      "/anaconda3/lib/python3.6/site-packages/ipykernel_launcher.py:2: SettingWithCopyWarning: \n",
      "A value is trying to be set on a copy of a slice from a DataFrame.\n",
      "Try using .loc[row_indexer,col_indexer] = value instead\n",
      "\n",
      "See the caveats in the documentation: http://pandas.pydata.org/pandas-docs/stable/indexing.html#indexing-view-versus-copy\n",
      "  \n"
     ]
    },
    {
     "name": "stdout",
     "output_type": "stream",
     "text": [
      "<class 'pandas.core.frame.DataFrame'>\n",
      "RangeIndex: 1460 entries, 0 to 1459\n",
      "Data columns (total 38 columns):\n",
      "Id               1460 non-null int64\n",
      "MSSubClass       1460 non-null int64\n",
      "LotFrontage      1460 non-null float64\n",
      "LotArea          1460 non-null int64\n",
      "OverallQual      1460 non-null int64\n",
      "OverallCond      1460 non-null int64\n",
      "YearBuilt        1460 non-null int64\n",
      "YearRemodAdd     1460 non-null int64\n",
      "MasVnrArea       1460 non-null float64\n",
      "BsmtFinSF1       1460 non-null int64\n",
      "BsmtFinSF2       1460 non-null int64\n",
      "BsmtUnfSF        1460 non-null int64\n",
      "TotalBsmtSF      1460 non-null int64\n",
      "1stFlrSF         1460 non-null int64\n",
      "2ndFlrSF         1460 non-null int64\n",
      "LowQualFinSF     1460 non-null int64\n",
      "GrLivArea        1460 non-null int64\n",
      "BsmtFullBath     1460 non-null int64\n",
      "BsmtHalfBath     1460 non-null int64\n",
      "FullBath         1460 non-null int64\n",
      "HalfBath         1460 non-null int64\n",
      "BedroomAbvGr     1460 non-null int64\n",
      "KitchenAbvGr     1460 non-null int64\n",
      "TotRmsAbvGrd     1460 non-null int64\n",
      "Fireplaces       1460 non-null int64\n",
      "GarageYrBlt      1460 non-null float64\n",
      "GarageCars       1460 non-null int64\n",
      "GarageArea       1460 non-null int64\n",
      "WoodDeckSF       1460 non-null int64\n",
      "OpenPorchSF      1460 non-null int64\n",
      "EnclosedPorch    1460 non-null int64\n",
      "3SsnPorch        1460 non-null int64\n",
      "ScreenPorch      1460 non-null int64\n",
      "PoolArea         1460 non-null int64\n",
      "MiscVal          1460 non-null int64\n",
      "MoSold           1460 non-null int64\n",
      "YrSold           1460 non-null int64\n",
      "SalePrice        1460 non-null int64\n",
      "dtypes: float64(3), int64(35)\n",
      "memory usage: 433.5 KB\n"
     ]
    },
    {
     "name": "stderr",
     "output_type": "stream",
     "text": [
      "/anaconda3/lib/python3.6/site-packages/ipykernel_launcher.py:3: SettingWithCopyWarning: \n",
      "A value is trying to be set on a copy of a slice from a DataFrame.\n",
      "Try using .loc[row_indexer,col_indexer] = value instead\n",
      "\n",
      "See the caveats in the documentation: http://pandas.pydata.org/pandas-docs/stable/indexing.html#indexing-view-versus-copy\n",
      "  This is separate from the ipykernel package so we can avoid doing imports until\n",
      "/anaconda3/lib/python3.6/site-packages/ipykernel_launcher.py:4: SettingWithCopyWarning: \n",
      "A value is trying to be set on a copy of a slice from a DataFrame.\n",
      "Try using .loc[row_indexer,col_indexer] = value instead\n",
      "\n",
      "See the caveats in the documentation: http://pandas.pydata.org/pandas-docs/stable/indexing.html#indexing-view-versus-copy\n",
      "  after removing the cwd from sys.path.\n"
     ]
    }
   ],
   "source": [
    "data_numeric= houses.select_dtypes([np.number])\n",
    "data_numeric['LotFrontage']= data_numeric['LotFrontage'].fillna(np.mean(data_numeric['LotFrontage']))\n",
    "data_numeric['MasVnrArea']= data_numeric['MasVnrArea'].fillna(np.mean(data_numeric['MasVnrArea']))\n",
    "data_numeric['GarageYrBlt']= data_numeric['GarageYrBlt'].fillna(0)\n",
    "data_numeric.info()\n",
    "\n",
    "data_nonnumeric= houses.select_dtypes([np.object])\n",
    "# print(data_nonnumeric)\n",
    "\n",
    "    "
   ]
  },
  {
   "cell_type": "code",
   "execution_count": 5,
   "metadata": {},
   "outputs": [
    {
     "name": "stderr",
     "output_type": "stream",
     "text": [
      "/anaconda3/lib/python3.6/site-packages/ipykernel_launcher.py:2: SettingWithCopyWarning: \n",
      "A value is trying to be set on a copy of a slice from a DataFrame.\n",
      "Try using .loc[row_indexer,col_indexer] = value instead\n",
      "\n",
      "See the caveats in the documentation: http://pandas.pydata.org/pandas-docs/stable/indexing.html#indexing-view-versus-copy\n",
      "  \n",
      "/anaconda3/lib/python3.6/site-packages/ipykernel_launcher.py:3: SettingWithCopyWarning: \n",
      "A value is trying to be set on a copy of a slice from a DataFrame.\n",
      "Try using .loc[row_indexer,col_indexer] = value instead\n",
      "\n",
      "See the caveats in the documentation: http://pandas.pydata.org/pandas-docs/stable/indexing.html#indexing-view-versus-copy\n",
      "  This is separate from the ipykernel package so we can avoid doing imports until\n",
      "/anaconda3/lib/python3.6/site-packages/pandas/core/frame.py:2540: SettingWithCopyWarning: \n",
      "A value is trying to be set on a copy of a slice from a DataFrame.\n",
      "Try using .loc[row_indexer,col_indexer] = value instead\n",
      "\n",
      "See the caveats in the documentation: http://pandas.pydata.org/pandas-docs/stable/indexing.html#indexing-view-versus-copy\n",
      "  self[k1] = value[k2]\n"
     ]
    },
    {
     "name": "stdout",
     "output_type": "stream",
     "text": [
      "<class 'pandas.core.frame.DataFrame'>\n",
      "RangeIndex: 1459 entries, 0 to 1458\n",
      "Data columns (total 37 columns):\n",
      "Id               1459 non-null int64\n",
      "MSSubClass       1459 non-null int64\n",
      "LotFrontage      1459 non-null float64\n",
      "LotArea          1459 non-null int64\n",
      "OverallQual      1459 non-null int64\n",
      "OverallCond      1459 non-null int64\n",
      "YearBuilt        1459 non-null int64\n",
      "YearRemodAdd     1459 non-null int64\n",
      "MasVnrArea       1459 non-null float64\n",
      "BsmtFinSF1       1459 non-null float64\n",
      "BsmtFinSF2       1459 non-null float64\n",
      "BsmtUnfSF        1459 non-null float64\n",
      "TotalBsmtSF      1459 non-null float64\n",
      "1stFlrSF         1459 non-null int64\n",
      "2ndFlrSF         1459 non-null int64\n",
      "LowQualFinSF     1459 non-null int64\n",
      "GrLivArea        1459 non-null int64\n",
      "BsmtFullBath     1459 non-null float64\n",
      "BsmtHalfBath     1459 non-null float64\n",
      "FullBath         1459 non-null int64\n",
      "HalfBath         1459 non-null int64\n",
      "BedroomAbvGr     1459 non-null int64\n",
      "KitchenAbvGr     1459 non-null int64\n",
      "TotRmsAbvGrd     1459 non-null int64\n",
      "Fireplaces       1459 non-null int64\n",
      "GarageYrBlt      1459 non-null float64\n",
      "GarageCars       1459 non-null float64\n",
      "GarageArea       1459 non-null float64\n",
      "WoodDeckSF       1459 non-null int64\n",
      "OpenPorchSF      1459 non-null int64\n",
      "EnclosedPorch    1459 non-null int64\n",
      "3SsnPorch        1459 non-null int64\n",
      "ScreenPorch      1459 non-null int64\n",
      "PoolArea         1459 non-null int64\n",
      "MiscVal          1459 non-null int64\n",
      "MoSold           1459 non-null int64\n",
      "YrSold           1459 non-null int64\n",
      "dtypes: float64(11), int64(26)\n",
      "memory usage: 421.8 KB\n"
     ]
    }
   ],
   "source": [
    "test_data_numeric= test_houses.select_dtypes([np.number])\n",
    "test_data_numeric['LotFrontage']= test_data_numeric['LotFrontage'].fillna(np.mean(data_numeric['LotFrontage']))\n",
    "test_data_numeric['MasVnrArea']= test_data_numeric['MasVnrArea'].fillna(np.mean(data_numeric['MasVnrArea']))\n",
    "test_data_numeric[['GarageYrBlt', 'BsmtFinSF1', 'BsmtFinSF2', 'BsmtUnfSF', 'TotalBsmtSF','BsmtFullBath', 'BsmtHalfBath', 'GarageCars', 'GarageArea']]= test_data_numeric[['GarageYrBlt', \n",
    "            'BsmtFinSF1', 'BsmtFinSF2', 'BsmtUnfSF', 'TotalBsmtSF', 'BsmtFullBath', 'BsmtHalfBath', 'GarageCars', 'GarageArea']].fillna(0)\n",
    "test_data_numeric.info()\n",
    "\n",
    "test_data_nonnumeric= test_houses.select_dtypes([np.object])\n",
    "# print(data_nonnumeric)"
   ]
  },
  {
   "cell_type": "markdown",
   "metadata": {},
   "source": [
    "## Visual evaluation of numeric data"
   ]
  },
  {
   "cell_type": "code",
   "execution_count": 6,
   "metadata": {},
   "outputs": [
    {
     "data": {
      "image/png": "[encoded data removed]",
      "text/plain": [
       "<matplotlib.figure.Figure at 0x1a1571bac8>"
      ]
     },
     "metadata": {},
     "output_type": "display_data"
    }
   ],
   "source": [
    "# data_for_plot= data_numeric.copy()\n",
    "# imp= Imputer()\n",
    "# imp.fit(data_for_plot)\n",
    "# data_for_plot= imp.transform(data_for_plot)\n",
    "# data_plot =pd.DataFrame(data_for_plot, columns=data_numeric.columns.values)\n",
    "cm = data_numeric.corr()\n",
    "plt.figure(figsize = (12,12))\n",
    "sns.heatmap(cm, square=True, center=1.5)\n",
    "plt.yticks(rotation=0)\n",
    "plt.xticks(rotation=90)\n",
    "plt.show()"
   ]
  },
  {
   "cell_type": "markdown",
   "metadata": {},
   "source": [
    "## Perform modeling with numeric data only-\n",
    "## set up variables for modeling"
   ]
  },
  {
   "cell_type": "code",
   "execution_count": 7,
   "metadata": {},
   "outputs": [
    {
     "name": "stdout",
     "output_type": "stream",
     "text": [
      "(1460, 37) (1460,)\n"
     ]
    }
   ],
   "source": [
    "X = data_numeric.drop(['SalePrice'], axis=1).values\n",
    "y = data_numeric['SalePrice'].values\n",
    "print(X.shape, y.shape)"
   ]
  },
  {
   "cell_type": "code",
   "execution_count": 8,
   "metadata": {},
   "outputs": [
    {
     "name": "stdout",
     "output_type": "stream",
     "text": [
      "(1459, 37)\n"
     ]
    }
   ],
   "source": [
    "test_X = test_data_numeric.values\n",
    "# test_y = test_data_numeric.values\n",
    "print(test_X.shape)"
   ]
  },
  {
   "cell_type": "markdown",
   "metadata": {},
   "source": [
    "## Ridge regression on numeric data, alpha 0.1"
   ]
  },
  {
   "cell_type": "code",
   "execution_count": 9,
   "metadata": {},
   "outputs": [
    {
     "name": "stdout",
     "output_type": "stream",
     "text": [
      "Score of logreg 0.8380015809357827\n",
      "Cross_Val Score of logreg, [0.83436045 0.8321577  0.79552391 0.87480269 0.86663581]\n",
      "Mean of Cross_val score: 0.840696112402874\n",
      "[118326.38244741 154820.65748445 178115.93721078 ... 176907.62626648\n",
      " 116904.23992425 252905.34249348]\n"
     ]
    }
   ],
   "source": [
    "pl= Pipeline([('clf', Ridge(alpha=0.1, normalize=True))])\n",
    "# pl= Pipeline([('imp', Imputer()),('clf', OneVsRestClassifier(Ridge(alpha=0.1, normalize=True)))])\n",
    "\n",
    "X_train, X_test, y_train, y_test = train_test_split(X, y, test_size=0.2, random_state=123)\n",
    "\n",
    "pl.fit(X_train, y_train)\n",
    "accuracy= pl.score(X_test, y_test)\n",
    "\n",
    "y_pred= pl.predict(X_test)\n",
    "cv_results= cross_val_score(pl, X_test, y_test, cv=5)\n",
    "\n",
    "# print('Test set predicitons: \\n {}'.format(y_pred))\n",
    "print('Score of logreg {}' .format(pl.score(X_test, y_test)))\n",
    "print('Cross_Val Score of logreg, {}' .format(cv_results))\n",
    "print('Mean of Cross_val score: {}'.format(np.mean(cv_results)))\n",
    "\n",
    "test_y_pred= pl.predict(test_X)\n",
    "print(test_y_pred)\n",
    "\n",
    "\n"
   ]
  },
  {
   "cell_type": "markdown",
   "metadata": {},
   "source": [
    "## Ridge regression on numeric data, alpha 0.2"
   ]
  },
  {
   "cell_type": "code",
   "execution_count": 10,
   "metadata": {},
   "outputs": [
    {
     "name": "stdout",
     "output_type": "stream",
     "text": [
      "Score of logreg 0.8341457809034166\n",
      "Cross_Val Score of logreg, [0.83616579 0.83333234 0.78971268 0.89036707 0.8641805 ]\n",
      "Mean of Cross_val score: 0.8427516780128179\n",
      "[120255.77833633 156655.40600713 181243.50960868 ... 182775.85933319\n",
      " 114534.60044232 249705.45566494]\n"
     ]
    }
   ],
   "source": [
    "pl= Pipeline([('clf', Ridge(alpha=0.2, normalize=True))])\n",
    "\n",
    "X_train, X_test, y_train, y_test = train_test_split(X, y, test_size=0.2, random_state=123)\n",
    "\n",
    "pl.fit(X_train, y_train)\n",
    "accuracy= pl.score(X_test, y_test)\n",
    "\n",
    "y_pred= pl.predict(X_test)\n",
    "# predictions= pl.predict_proba(X_test)\n",
    "cv_results= cross_val_score(pl, X_test, y_test, cv=5)\n",
    "\n",
    "# print('Test set predicitons: \\n {}'.format(y_pred))\n",
    "print('Score of logreg {}' .format(pl.score(X_test, y_test)))\n",
    "print('Cross_Val Score of logreg, {}' .format(cv_results))\n",
    "print('Mean of Cross_val score: {}'.format(np.mean(cv_results)))\n",
    "# print('log loss for logreg, {}'.format(log_loss(y_test, predictions)))\n",
    "\n",
    "\n",
    "test_y_pred= pl.predict(test_X)\n",
    "print(test_y_pred)"
   ]
  },
  {
   "cell_type": "markdown",
   "metadata": {},
   "source": [
    "## Lasso regression on numeric data, alpha 5"
   ]
  },
  {
   "cell_type": "code",
   "execution_count": 11,
   "metadata": {},
   "outputs": [
    {
     "name": "stdout",
     "output_type": "stream",
     "text": [
      "Score of logreg 0.8380322067616227\n",
      "Cross_Val Score of logreg, [0.82555829 0.82497515 0.79875314 0.84285987 0.86500438]\n",
      "Mean of Cross_val score: 0.831430165475785\n",
      "[112905.8751953  156676.95736574 174180.39422325 ... 168631.69262758\n",
      " 119995.54307058 257259.10328334]\n"
     ]
    }
   ],
   "source": [
    "#Use Lasso regression on just numeric data, shrinks coef of less important data to 0\n",
    "\n",
    "pl= Pipeline([('clf', Lasso(alpha=5, normalize=True))])\n",
    "# pl= Pipeline([('imp', Imputer()),('clf', OneVsRestClassifier(Lasso(alpha=0.1, normalize=True)))])\n",
    "\n",
    "X_train, X_test, y_train, y_test = train_test_split(X, y, test_size=0.2, random_state=123)\n",
    "\n",
    "pl.fit(X_train, y_train)\n",
    "accuracy= pl.score(X_test, y_test)\n",
    "\n",
    "y_pred= pl.predict(X_test)\n",
    "# predictions= pl.predict_proba(X_test)\n",
    "cv_results= cross_val_score(pl, X_test, y_test, cv=5)\n",
    "\n",
    "# print('Test set predicitons: \\n {}'.format(y_pred))\n",
    "print('Score of logreg {}' .format(pl.score(X_test, y_test)))\n",
    "print('Cross_Val Score of logreg, {}' .format(cv_results))\n",
    "print('Mean of Cross_val score: {}'.format(np.mean(cv_results)))\n",
    "# print('log loss for logreg, {}'.format(log_loss(y_test, predictions)))\n",
    "\n",
    "\n",
    "test_y_pred= pl.predict(test_X)\n",
    "print(test_y_pred)"
   ]
  },
  {
   "cell_type": "markdown",
   "metadata": {},
   "source": [
    "## Lasso regression on numeric data, alpha 7"
   ]
  },
  {
   "cell_type": "code",
   "execution_count": 12,
   "metadata": {},
   "outputs": [
    {
     "name": "stdout",
     "output_type": "stream",
     "text": [
      "Score of logreg 0.8381195332839424\n",
      "Cross_Val Score of logreg, [0.82644646 0.82510155 0.79925771 0.84444941 0.86561974]\n",
      "Mean of Cross_val score: 0.8321749749827596\n",
      "31628.451715471292\n"
     ]
    }
   ],
   "source": [
    "#Use Lasso regression on just numeric data, shrinks coef of less important data to 0\n",
    "\n",
    "pl= Pipeline([('clf', Lasso(alpha=7, normalize=True))])\n",
    "# pl= Pipeline([('imp', Imputer()),('clf', OneVsRestClassifier(Ridge(alpha=0.1, normalize=True)))])\n",
    "\n",
    "X_train, X_test, y_train, y_test = train_test_split(X, y, test_size=0.2, random_state=123)\n",
    "\n",
    "pl.fit(X_train, y_train)\n",
    "accuracy= pl.score(X_test, y_test)\n",
    "# mse= mean_squared_error(y_pred, y_test)\n",
    "\n",
    "y_pred= pl.predict(X_test)\n",
    "cv_results= cross_val_score(pl, X_test, y_test, cv=5)\n",
    "\n",
    "# print('Test set predicitons: \\n {}'.format(y_pred))\n",
    "print('Score of logreg {}' .format(pl.score(X_test, y_test)))\n",
    "print('Cross_Val Score of logreg, {}' .format(cv_results))\n",
    "print('Mean of Cross_val score: {}'.format(np.mean(cv_results)))\n",
    "rms = sqrt(mean_squared_error(y_test, y_pred))\n",
    "print(rms)\n",
    "\n",
    "# test_y_pred= pl.predict(test_X)\n",
    "# print(test_y_pred)"
   ]
  },
  {
   "cell_type": "markdown",
   "metadata": {},
   "source": [
    "## Plot lasso coeficients, verify which features affect the sales price the most"
   ]
  },
  {
   "cell_type": "code",
   "execution_count": 13,
   "metadata": {},
   "outputs": [
    {
     "data": {
      "image/png": "[encoded data removed]",
      "text/plain": [
       "<matplotlib.figure.Figure at 0x1a1f782710>"
      ]
     },
     "metadata": {},
     "output_type": "display_data"
    }
   ],
   "source": [
    "names = data_numeric.drop(['SalePrice'], axis=1).columns\n",
    "# print(names)\n",
    "lasso= Lasso(alpha=3, normalize=True)\n",
    "lasso_coef= lasso.fit(X_train, y_train).coef_\n",
    "# print(lasso_coef)\n",
    "plt.figure(figsize = (10,8))\n",
    "plt.bar(range(len(names)), lasso_coef)\n",
    "plt.ylim(-500, 20000)\n",
    "plt.xticks(range(len(names)), names, rotation=90)\n",
    "plt.show()"
   ]
  },
  {
   "cell_type": "markdown",
   "metadata": {},
   "source": [
    "## Address missing data in non_numeric columns"
   ]
  },
  {
   "cell_type": "code",
   "execution_count": 14,
   "metadata": {},
   "outputs": [
    {
     "name": "stdout",
     "output_type": "stream",
     "text": [
      "  MSZoning Street LotShape LandContour Utilities LotConfig LandSlope  \\\n",
      "0       RL   Pave      Reg         Lvl    AllPub    Inside       Gtl   \n",
      "1       RL   Pave      Reg         Lvl    AllPub       FR2       Gtl   \n",
      "2       RL   Pave      IR1         Lvl    AllPub    Inside       Gtl   \n",
      "3       RL   Pave      IR1         Lvl    AllPub    Corner       Gtl   \n",
      "4       RL   Pave      IR1         Lvl    AllPub       FR2       Gtl   \n",
      "\n",
      "  Neighborhood Condition1 Condition2      ...      KitchenQual Functional  \\\n",
      "0      CollgCr       Norm       Norm      ...               Gd        Typ   \n",
      "1      Veenker      Feedr       Norm      ...               TA        Typ   \n",
      "2      CollgCr       Norm       Norm      ...               Gd        Typ   \n",
      "3      Crawfor       Norm       Norm      ...               Gd        Typ   \n",
      "4      NoRidge       Norm       Norm      ...               Gd        Typ   \n",
      "\n",
      "  FireplaceQu GarageType GarageFinish GarageQual GarageCond PavedDrive  \\\n",
      "0                 Attchd          RFn         TA         TA          Y   \n",
      "1          TA     Attchd          RFn         TA         TA          Y   \n",
      "2          TA     Attchd          RFn         TA         TA          Y   \n",
      "3          Gd     Detchd          Unf         TA         TA          Y   \n",
      "4          TA     Attchd          RFn         TA         TA          Y   \n",
      "\n",
      "  SaleType SaleCondition  \n",
      "0       WD        Normal  \n",
      "1       WD        Normal  \n",
      "2       WD        Normal  \n",
      "3       WD       Abnorml  \n",
      "4       WD        Normal  \n",
      "\n",
      "[5 rows x 39 columns]\n"
     ]
    }
   ],
   "source": [
    "data_nonnumeric = data_nonnumeric.fillna('')\n",
    "print(data_nonnumeric.head())"
   ]
  },
  {
   "cell_type": "code",
   "execution_count": 15,
   "metadata": {},
   "outputs": [
    {
     "name": "stdout",
     "output_type": "stream",
     "text": [
      "  MSZoning Street LotShape LandContour Utilities LotConfig LandSlope  \\\n",
      "0       RH   Pave      Reg         Lvl    AllPub    Inside       Gtl   \n",
      "1       RL   Pave      IR1         Lvl    AllPub    Corner       Gtl   \n",
      "2       RL   Pave      IR1         Lvl    AllPub    Inside       Gtl   \n",
      "3       RL   Pave      IR1         Lvl    AllPub    Inside       Gtl   \n",
      "4       RL   Pave      IR1         HLS    AllPub    Inside       Gtl   \n",
      "\n",
      "  Neighborhood Condition1 Condition2      ...      KitchenQual Functional  \\\n",
      "0        NAmes      Feedr       Norm      ...               TA        Typ   \n",
      "1        NAmes       Norm       Norm      ...               Gd        Typ   \n",
      "2      Gilbert       Norm       Norm      ...               TA        Typ   \n",
      "3      Gilbert       Norm       Norm      ...               Gd        Typ   \n",
      "4      StoneBr       Norm       Norm      ...               Gd        Typ   \n",
      "\n",
      "  FireplaceQu GarageType GarageFinish GarageQual GarageCond PavedDrive  \\\n",
      "0                 Attchd          Unf         TA         TA          Y   \n",
      "1                 Attchd          Unf         TA         TA          Y   \n",
      "2          TA     Attchd          Fin         TA         TA          Y   \n",
      "3          Gd     Attchd          Fin         TA         TA          Y   \n",
      "4                 Attchd          RFn         TA         TA          Y   \n",
      "\n",
      "  SaleType SaleCondition  \n",
      "0       WD        Normal  \n",
      "1       WD        Normal  \n",
      "2       WD        Normal  \n",
      "3       WD        Normal  \n",
      "4       WD        Normal  \n",
      "\n",
      "[5 rows x 39 columns]\n"
     ]
    }
   ],
   "source": [
    "test_data_nonnumeric = test_data_nonnumeric.fillna('')\n",
    "print(test_data_nonnumeric.head())"
   ]
  },
  {
   "cell_type": "markdown",
   "metadata": {},
   "source": [
    "## create dummy variables for non-numeric columns, merge numeric and non-numeric data frames"
   ]
  },
  {
   "cell_type": "code",
   "execution_count": 16,
   "metadata": {},
   "outputs": [
    {
     "name": "stdout",
     "output_type": "stream",
     "text": [
      "251\n",
      "<class 'pandas.core.frame.DataFrame'>\n",
      "RangeIndex: 1460 entries, 0 to 1459\n",
      "Columns: 289 entries, Id to SaleCondition_Partial\n",
      "dtypes: float64(3), int64(35), uint8(251)\n",
      "memory usage: 791.4 KB\n",
      "289\n"
     ]
    }
   ],
   "source": [
    "#create dummy variables for text columns then concat numeric and non_numeric dataframes\n",
    "dummies= pd.get_dummies(data_nonnumeric, prefix_sep='_')\n",
    "# print(dummies.head())\n",
    "# dummies.info()\n",
    "dummies_col= list(dummies.columns.values)\n",
    "print(len(dummies_col))\n",
    "houses_both = pd.concat([data_numeric, dummies], axis = 1)\n",
    "houses_both.info()\n",
    "# print(houses_both.head())\n",
    "print(len(houses_both.columns))\n",
    "\n"
   ]
  },
  {
   "cell_type": "code",
   "execution_count": 17,
   "metadata": {},
   "outputs": [
    {
     "name": "stdout",
     "output_type": "stream",
     "text": [
      "241\n",
      "<class 'pandas.core.frame.DataFrame'>\n",
      "RangeIndex: 1459 entries, 0 to 1458\n",
      "Columns: 278 entries, Id to SaleCondition_Partial\n",
      "dtypes: float64(11), int64(26), uint8(241)\n",
      "memory usage: 765.2 KB\n",
      "278\n",
      "['Utilities_NoSeWa', 'Condition2_RRAe', 'Condition2_RRAn', 'Condition2_RRNn', 'HouseStyle_2.5Fin', 'RoofMatl_ClyTile', 'RoofMatl_Membran', 'RoofMatl_Metal', 'RoofMatl_Roll', 'Exterior1st_ImStucc', 'Exterior1st_Stone', 'Exterior2nd_Other', 'Heating_Floor', 'Heating_OthW', 'Electrical_', 'Electrical_Mix', 'GarageQual_Ex'] ['MSZoning_', 'Utilities_', 'Exterior1st_', 'Exterior2nd_', 'KitchenQual_', 'Functional_', 'SaleType_']\n",
      "     Id  MSSubClass  LotFrontage  LotArea  OverallQual  OverallCond  \\\n",
      "0  1461          20         80.0    11622            5            6   \n",
      "1  1462          20         81.0    14267            6            6   \n",
      "2  1463          60         74.0    13830            5            5   \n",
      "3  1464          60         78.0     9978            6            6   \n",
      "4  1465         120         43.0     5005            8            5   \n",
      "\n",
      "   YearBuilt  YearRemodAdd  MasVnrArea  BsmtFinSF1          ...            \\\n",
      "0       1961          1961         0.0       468.0          ...             \n",
      "1       1958          1958       108.0       923.0          ...             \n",
      "2       1997          1998         0.0       791.0          ...             \n",
      "3       1998          1998        20.0       602.0          ...             \n",
      "4       1992          1992         0.0       263.0          ...             \n",
      "\n",
      "   SaleType_ConLw  SaleType_New  SaleType_Oth  SaleType_WD  \\\n",
      "0               0             0             0            1   \n",
      "1               0             0             0            1   \n",
      "2               0             0             0            1   \n",
      "3               0             0             0            1   \n",
      "4               0             0             0            1   \n",
      "\n",
      "   SaleCondition_Abnorml  SaleCondition_AdjLand  SaleCondition_Alloca  \\\n",
      "0                      0                      0                     0   \n",
      "1                      0                      0                     0   \n",
      "2                      0                      0                     0   \n",
      "3                      0                      0                     0   \n",
      "4                      0                      0                     0   \n",
      "\n",
      "   SaleCondition_Family  SaleCondition_Normal  SaleCondition_Partial  \n",
      "0                     0                     1                      0  \n",
      "1                     0                     1                      0  \n",
      "2                     0                     1                      0  \n",
      "3                     0                     1                      0  \n",
      "4                     0                     1                      0  \n",
      "\n",
      "[5 rows x 271 columns]\n"
     ]
    }
   ],
   "source": [
    "#create dummy variables for text columns then concat numeric and non_numeric dataframes\n",
    "test_dummies= pd.get_dummies(test_data_nonnumeric, prefix_sep='_')\n",
    "# print(test_dummies.head())\n",
    "# test_dummies.info()\n",
    "test_dummies_col= list(test_dummies.columns.values)\n",
    "print(len(test_dummies_col))\n",
    "\n",
    "test_houses_both = pd.concat([test_data_numeric, test_dummies], axis = 1)\n",
    "test_houses_both.info()\n",
    "# print(test_houses_both.head())\n",
    "print(len(test_houses_both.columns))\n",
    "\n",
    "diff = [item for item in dummies_col if item not in test_dummies_col]\n",
    "diff1 = [item for item in test_dummies_col if item not in dummies_col]\n",
    "print(diff, diff1)\n",
    "\n",
    "houses_both= houses_both.drop(diff, axis=1)\n",
    "test_houses_both= test_houses_both.drop(diff1, axis=1)\n",
    "print(test_houses_both.head())"
   ]
  },
  {
   "cell_type": "markdown",
   "metadata": {},
   "source": [
    "## set up variables for modeling"
   ]
  },
  {
   "cell_type": "code",
   "execution_count": 18,
   "metadata": {},
   "outputs": [
    {
     "name": "stdout",
     "output_type": "stream",
     "text": [
      "(1460, 271) (1460,)\n"
     ]
    }
   ],
   "source": [
    "X = houses_both.drop(['SalePrice'], axis=1).values\n",
    "y = houses_both['SalePrice'].values\n",
    "print(X.shape, y.shape)\n"
   ]
  },
  {
   "cell_type": "code",
   "execution_count": 19,
   "metadata": {},
   "outputs": [
    {
     "name": "stdout",
     "output_type": "stream",
     "text": [
      "(1459, 271)\n"
     ]
    }
   ],
   "source": [
    "test_X = test_houses_both.values\n",
    "print(test_X.shape)\n"
   ]
  },
  {
   "cell_type": "markdown",
   "metadata": {},
   "source": [
    "## lasso regression modeling of complete data set, alpha 5"
   ]
  },
  {
   "cell_type": "code",
   "execution_count": 20,
   "metadata": {},
   "outputs": [
    {
     "name": "stdout",
     "output_type": "stream",
     "text": [
      "Score of lasso 0.8911265903532113\n",
      "Cross_Val Score of lasso, [0.70157863 0.74666812 0.80004835 0.53054585 0.64177531]\n",
      "Mean of Cross_val score: 0.6841232535306867\n",
      "25938.30668596475\n",
      "[108734.88805013 148188.88274432 178867.16294122 ... 155688.2088188\n",
      " 104007.57383401 225533.987715  ]\n"
     ]
    }
   ],
   "source": [
    "#Use Lasso regression, shrinks coef of less important data to 0\n",
    "\n",
    "pl= Pipeline([('clf', Lasso(alpha=5, normalize=True))])\n",
    "# pl= Pipeline([('imp', Imputer()),('clf', OneVsRestClassifier(Lasso(alpha=0.1, normalize=True)))])\n",
    "\n",
    "X_train, X_test, y_train, y_test = train_test_split(X, y, test_size=0.2, random_state=123)\n",
    "\n",
    "pl.fit(X_train, y_train)\n",
    "accuracy= pl.score(X_test, y_test)\n",
    "\n",
    "y_pred= pl.predict(X_test)\n",
    "cv_results= cross_val_score(pl, X_test, y_test, cv=5)\n",
    "\n",
    "# print('Test set predicitons: \\n {}'.format(y_pred))\n",
    "print('Score of lasso {}' .format(pl.score(X_test, y_test)))\n",
    "print('Cross_Val Score of lasso, {}' .format(cv_results))\n",
    "print('Mean of Cross_val score: {}'.format(np.mean(cv_results)))\n",
    "rms = sqrt(mean_squared_error(y_test, y_pred))\n",
    "print(rms)\n",
    "test_y_pred= pl.predict(test_X)\n",
    "print(test_y_pred)\n"
   ]
  },
  {
   "cell_type": "markdown",
   "metadata": {},
   "source": [
    "## lasso regression modeling of complete data set, alpha 7"
   ]
  },
  {
   "cell_type": "code",
   "execution_count": 21,
   "metadata": {},
   "outputs": [
    {
     "name": "stdout",
     "output_type": "stream",
     "text": [
      "Score of lasso 0.8921237797596075\n",
      "Cross_Val Score of lasso, [0.74773548 0.79498862 0.80108045 0.5886888  0.70014654]\n",
      "Mean of Cross_val score: 0.7265279790871196\n",
      "25819.246835188427\n",
      "[110435.82243228 148650.38432143 179078.79618592 ... 155614.36392532\n",
      " 104624.91319457 226036.29401074]\n"
     ]
    }
   ],
   "source": [
    "#Use Lasso regression, shrinks coef of less important data to 0\n",
    "\n",
    "pl= Pipeline([('clf', Lasso(alpha=7, normalize=True))])\n",
    "# pl= Pipeline([('imp', Imputer()),('clf', OneVsRestClassifier(Lasso(alpha=0.1, normalize=True)))])\n",
    "\n",
    "X_train, X_test, y_train, y_test = train_test_split(X, y, test_size=0.2, random_state=123)\n",
    "\n",
    "pl.fit(X_train, y_train)\n",
    "accuracy= pl.score(X_test, y_test)\n",
    "\n",
    "y_pred= pl.predict(X_test)\n",
    "cv_results= cross_val_score(pl, X_test, y_test, cv=5)\n",
    "\n",
    "# print('Test set predicitons: \\n {}'.format(y_pred))\n",
    "print('Score of lasso {}' .format(pl.score(X_test, y_test)))\n",
    "print('Cross_Val Score of lasso, {}' .format(cv_results))\n",
    "print('Mean of Cross_val score: {}'.format(np.mean(cv_results)))\n",
    "rms = sqrt(mean_squared_error(y_test, y_pred))\n",
    "print(rms)\n",
    "test_y_pred= pl.predict(test_X)\n",
    "print(test_y_pred)\n"
   ]
  },
  {
   "cell_type": "markdown",
   "metadata": {},
   "source": [
    "## lasso regression modeling of complete data set, alpha 11"
   ]
  },
  {
   "cell_type": "code",
   "execution_count": 22,
   "metadata": {},
   "outputs": [
    {
     "name": "stdout",
     "output_type": "stream",
     "text": [
      "Score of lasso 0.8921237797596075\n",
      "Cross_Val Score of lasso, [0.74773548 0.79498862 0.80108045 0.5886888  0.70014654]\n",
      "Mean of Cross_val score: 0.7265279790871196\n",
      "25819.246835188427\n",
      "[110435.82243228 148650.38432143 179078.79618592 ... 155614.36392532\n",
      " 104624.91319457 226036.29401074]\n"
     ]
    }
   ],
   "source": [
    "#Use Lasso regression, shrinks coef of less important data to 0\n",
    "\n",
    "pl= Pipeline([('clf', Lasso(alpha=7, normalize=True))])\n",
    "# pl= Pipeline([('imp', Imputer()),('clf', OneVsRestClassifier(Lasso(alpha=0.1, normalize=True)))])\n",
    "\n",
    "X_train, X_test, y_train, y_test = train_test_split(X, y, test_size=0.2, random_state=123)\n",
    "\n",
    "pl.fit(X_train, y_train)\n",
    "accuracy= pl.score(X_test, y_test)\n",
    "\n",
    "y_pred= pl.predict(X_test)\n",
    "cv_results= cross_val_score(pl, X_test, y_test, cv=5)\n",
    "\n",
    "# print('Test set predicitons: \\n {}'.format(y_pred))\n",
    "print('Score of lasso {}' .format(pl.score(X_test, y_test)))\n",
    "print('Cross_Val Score of lasso, {}' .format(cv_results))\n",
    "print('Mean of Cross_val score: {}'.format(np.mean(cv_results)))\n",
    "rms = sqrt(mean_squared_error(y_test, y_pred))\n",
    "print(rms)\n",
    "test_y_pred= pl.predict(test_X)\n",
    "print(test_y_pred)\n"
   ]
  },
  {
   "cell_type": "code",
   "execution_count": 28,
   "metadata": {},
   "outputs": [
    {
     "name": "stdout",
     "output_type": "stream",
     "text": [
      "Score of grad_boost 0.915030527799338\n",
      "Cross_Val Score of grad_boost, [0.89997385 0.9133637  0.87212756 0.89477519 0.85550508]\n",
      "Mean of Cross_val score: 0.8871490740277392\n",
      "22914.594120113503\n"
     ]
    }
   ],
   "source": [
    "#Use Gradient \n",
    "\n",
    "# pl= Pipeline([('clf', ensemble.GradientBoostingRegressor(n_estimators=1000, max_depth=3, learning_rate=0.1))])\n",
    "pl= Pipeline([('clf', ensemble.GradientBoostingRegressor(n_estimators=500, max_depth=3, learning_rate=0.1))])\n",
    "\n",
    "# pl= Pipeline([('imp', Imputer()),('clf', OneVsRestClassifier(Lasso(alpha=0.1, normalize=True)))])\n",
    "\n",
    "X_train, X_test, y_train, y_test = train_test_split(X, y, test_size=0.2, random_state=123)\n",
    "\n",
    "pl.fit(X_train, y_train)\n",
    "accuracy= pl.score(X_test, y_test)\n",
    "y_pred= pl.predict(X_test)\n",
    "cv_results= cross_val_score(pl, X_test, y_test, cv=5)\n",
    "\n",
    "\n",
    "\n",
    "\n",
    "#print('Test set predicitons: \\n {}'.format(y_pred))\n",
    "print('Score of grad_boost {}' .format(pl.score(X_test, y_test)))\n",
    "print('Cross_Val Score of grad_boost, {}' .format(cv_results))\n",
    "print('Mean of Cross_val score: {}'.format(np.mean(cv_results)))\n",
    "rms = sqrt(mean_squared_error(y_test, y_pred))\n",
    "print(rms)\n",
    "test_y_pred= pd.DataFrame(pl.predict(test_X))\n",
    "# print(test_y_pred)\n",
    "test_houses_both['SalePrice']= test_y_pred\n",
    "test_saleprice= test_houses_both[['Id','SalePrice']]\n",
    "# print(test_saleprice)\n",
    "test_saleprice.to_csv('test_saleprice.csv', encoding='utf-8', index=False)\n"
   ]
  },
  {
   "cell_type": "code",
   "execution_count": 24,
   "metadata": {},
   "outputs": [
    {
     "name": "stdout",
     "output_type": "stream",
     "text": [
      "Score of random forest 0.8514540590203882\n",
      "Cross_Val Score of random forest, [0.85961732 0.87663288 0.78700207 0.79775443 0.80298578]\n",
      "Mean of Cross_val score: 0.824798496319616\n",
      "30297.800627395336\n",
      "[124400.  153292.5 179840.  ... 169985.  113100.  225871.2]\n"
     ]
    }
   ],
   "source": [
    "#Use Random Forest\n",
    "#default settings\n",
    "pl= Pipeline([('clf', RandomForestRegressor(n_estimators=10, criterion='mse', max_depth=None, min_samples_split=2, \n",
    "                                            min_samples_leaf=1, min_weight_fraction_leaf=0.0, max_features='auto', \n",
    "                                            max_leaf_nodes=None, min_impurity_decrease=0.0, min_impurity_split=None, \n",
    "                                            bootstrap=True, oob_score=False, n_jobs=1, random_state=None, verbose=0, \n",
    "                                            warm_start=False))])\n",
    "# pl= Pipeline([('clf', RandomForestRegressor(n_estimators=15, criterion='mse', max_depth=3, min_samples_split=2, \n",
    "#                                             min_samples_leaf=1, min_weight_fraction_leaf=0.0, max_features='auto', \n",
    "#                                             max_leaf_nodes=None, min_impurity_decrease=0.0, min_impurity_split=None, \n",
    "#                                             bootstrap=True, oob_score=False, n_jobs=1, random_state=None, verbose=0, \n",
    "#                                             warm_start=False))])\n",
    "\n",
    "# pl= Pipeline([('imp', Imputer()),('clf', OneVsRestClassifier(Lasso(alpha=0.1, normalize=True)))])\n",
    "\n",
    "X_train, X_test, y_train, y_test = train_test_split(X, y, test_size=0.2, random_state=123)\n",
    "\n",
    "pl.fit(X_train, y_train)\n",
    "accuracy= pl.score(X_test, y_test)\n",
    "y_pred= pl.predict(X_test)\n",
    "\n",
    "cv_results= cross_val_score(pl, X_test, y_test, cv=5)\n",
    "\n",
    "#print('Test set predicitons: \\n {}'.format(y_pred))\n",
    "print('Score of random forest {}' .format(pl.score(X_test, y_test)))\n",
    "print('Cross_Val Score of random forest, {}' .format(cv_results))\n",
    "print('Mean of Cross_val score: {}'.format(np.mean(cv_results)))\n",
    "rms = sqrt(mean_squared_error(y_test, y_pred))\n",
    "print(rms)\n",
    "test_y_pred= pl.predict(test_X)\n",
    "print(test_y_pred)\n"
   ]
  },
  {
   "cell_type": "code",
   "execution_count": null,
   "metadata": {},
   "outputs": [],
   "source": []
  },
  {
   "cell_type": "code",
   "execution_count": null,
   "metadata": {},
   "outputs": [],
   "source": []
  }
 ],
 "metadata": {
  "kernelspec": {
   "display_name": "Python 3",
   "language": "python",
   "name": "python3"
  },
  "language_info": {
   "codemirror_mode": {
    "name": "ipython",
    "version": 3
   },
   "file_extension": ".py",
   "mimetype": "text/x-python",
   "name": "python",
   "nbconvert_exporter": "python",
   "pygments_lexer": "ipython3",
   "version": "3.6.4"
  }
 },
 "nbformat": 4,
 "nbformat_minor": 2
}
